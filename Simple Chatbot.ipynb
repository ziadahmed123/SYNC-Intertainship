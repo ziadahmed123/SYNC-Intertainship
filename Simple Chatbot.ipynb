{
  "cells": [
    {
      "cell_type": "code",
      "source": [
        "import nltk\n",
        "from nltk.chat.util import Chat, reflections\n",
        "\n",
        "# Define the pairs of inputs and outputs\n",
        "pairs = [\n",
        "    ['hi', ['Hello!', 'Hi there!']],\n",
        "    ['hello', ['Hello!', 'Hi there!']],\n",
        "    ['how are you', ['I am doing well, thank you. How can I assist you?']],\n",
        "    ['what can you do', ['I can help you with tasks like answering questions or providing information.']],\n",
        "    ['bye', ['Goodbye!', 'Have a great day!']],\n",
        "    ['what is your name', ['My name is simple chatbot']],\n",
        "    ['can you help me with my homework', ['Sure, what do you need help with?']],\n",
        "    ['what is the meaning of life', ['That is a philosophical question that many people have different opinions on.']],\n",
        "    ['thank you', ['You are welcome!', 'No problem.']],\n",
        "    ['who created you', ['I was created by Ziad Ahmed.']],\n",
        "    ['what is your purpose', ['My purpose is to assist and communicate with users through natural language.']],\n",
        "]\n",
        "\n",
        "\n",
        "chatbot = Chat(pairs, reflections)\n",
        "\n",
        "history = []\n",
        "\n",
        "\n",
        "print(\"Hello! How can I assist you today?\")\n",
        "while True:\n",
        "    try:\n",
        "\n",
        "        user_input = input(\"> \")\n",
        "        history.append((\"user\", user_input))\n",
        "        response = chatbot.respond(user_input)\n",
        "        history.append((\"bot\", response))\n",
        "        print(response)\n",
        "    except KeyboardInterrupt:\n",
        "        break\n",
        "\n",
        "print(\"Conversation history:\")\n",
        "for h in history:\n",
        "    print(\"{}: {}\".format(h[0], h[1]))"
      ],
      "metadata": {
        "id": "ZEixFF_ECY27",
        "outputId": "7d73dbf4-1b75-49a0-e895-7792a2a9331f",
        "colab": {
          "base_uri": "https://localhost:8080/"
        }
      },
      "execution_count": 8,
      "outputs": [
        {
          "output_type": "stream",
          "name": "stdout",
          "text": [
            "Hello! How can I assist you today?\n",
            "> hi \n",
            "Hi there!\n",
            "> how are you \n",
            "I am doing well, thank you. How can I assist you?\n",
            "> what can you do \n",
            "I can help you with tasks like answering questions or providing information.\n",
            "> who created you \n",
            "I was created by Ziad Ahmed.\n",
            "> thank you \n",
            "You are welcome!\n",
            "> bye \n",
            "Have a great day!\n",
            "Conversation history:\n",
            "user: hi \n",
            "bot: Hi there!\n",
            "user: how are you \n",
            "bot: I am doing well, thank you. How can I assist you?\n",
            "user: what can you do \n",
            "bot: I can help you with tasks like answering questions or providing information.\n",
            "user: who created you \n",
            "bot: I was created by Ziad Ahmed.\n",
            "user: thank you \n",
            "bot: You are welcome!\n",
            "user: bye \n",
            "bot: Have a great day!\n"
          ]
        }
      ]
    }
  ],
  "metadata": {
    "colab": {
      "name": "Welcome To Colaboratory",
      "toc_visible": true,
      "provenance": []
    },
    "kernelspec": {
      "display_name": "Python 3",
      "name": "python3"
    }
  },
  "nbformat": 4,
  "nbformat_minor": 0
}